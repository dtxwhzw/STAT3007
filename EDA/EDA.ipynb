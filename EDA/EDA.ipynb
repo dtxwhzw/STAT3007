{
 "cells": [
  {
   "cell_type": "code",
   "execution_count": 1,
   "metadata": {},
   "outputs": [],
   "source": [
    "import pandas as pd\n",
    "import numpy as np\n",
    "import seaborn as sns\n",
    "from matplotlib import pyplot as plt\n",
    "import json\n",
    "import os"
   ]
  },
  {
   "cell_type": "code",
   "execution_count": 2,
   "metadata": {},
   "outputs": [
    {
     "data": {
      "text/html": [
       "<div>\n",
       "<style scoped>\n",
       "    .dataframe tbody tr th:only-of-type {\n",
       "        vertical-align: middle;\n",
       "    }\n",
       "\n",
       "    .dataframe tbody tr th {\n",
       "        vertical-align: top;\n",
       "    }\n",
       "\n",
       "    .dataframe thead th {\n",
       "        text-align: right;\n",
       "    }\n",
       "</style>\n",
       "<table border=\"1\" class=\"dataframe\">\n",
       "  <thead>\n",
       "    <tr style=\"text-align: right;\">\n",
       "      <th></th>\n",
       "      <th>reviewId</th>\n",
       "      <th>userName</th>\n",
       "      <th>userImage</th>\n",
       "      <th>content</th>\n",
       "      <th>score</th>\n",
       "      <th>thumbsUpCount</th>\n",
       "      <th>reviewCreatedVersion</th>\n",
       "      <th>at</th>\n",
       "      <th>replyContent</th>\n",
       "      <th>repliedAt</th>\n",
       "      <th>sortOrder</th>\n",
       "      <th>appId</th>\n",
       "    </tr>\n",
       "  </thead>\n",
       "  <tbody>\n",
       "    <tr>\n",
       "      <th>0</th>\n",
       "      <td>gp:AOqpTOEcWS_b8b4P2gClKovxXAPg3il0AD0ZnGw9RxY...</td>\n",
       "      <td>H G</td>\n",
       "      <td>https://play-lh.googleusercontent.com/-2Zyc1Oz...</td>\n",
       "      <td>Unable to use it as it won't work with my Goog...</td>\n",
       "      <td>1</td>\n",
       "      <td>13</td>\n",
       "      <td>5.7.0.20</td>\n",
       "      <td>2021-01-11 01:12:58</td>\n",
       "      <td>As our team explained profusely, we sync data ...</td>\n",
       "      <td>2021-01-10 12:58:09</td>\n",
       "      <td>most_relevant</td>\n",
       "      <td>com.anydo</td>\n",
       "    </tr>\n",
       "    <tr>\n",
       "      <th>1</th>\n",
       "      <td>gp:AOqpTOEidRmDaHGYPZW21SVfBkeqTruAzg7LAmCPL2_...</td>\n",
       "      <td>Michelle Armstrong</td>\n",
       "      <td>https://play-lh.googleusercontent.com/a-/AOh14...</td>\n",
       "      <td>I downloaded this because of the cross platfor...</td>\n",
       "      <td>1</td>\n",
       "      <td>81</td>\n",
       "      <td>5.7.0.20</td>\n",
       "      <td>2020-12-22 18:31:11</td>\n",
       "      <td>The Premium ad only shows up when first openin...</td>\n",
       "      <td>2020-12-23 19:58:46</td>\n",
       "      <td>most_relevant</td>\n",
       "      <td>com.anydo</td>\n",
       "    </tr>\n",
       "    <tr>\n",
       "      <th>2</th>\n",
       "      <td>gp:AOqpTOEJfVU5Os7_8CNOu_mpy2AlDz8kFxEFMeBMnxC...</td>\n",
       "      <td>Yiğitcan Sümbelli</td>\n",
       "      <td>https://play-lh.googleusercontent.com/a-/AOh14...</td>\n",
       "      <td>I am starting to hate this app! Every time the...</td>\n",
       "      <td>1</td>\n",
       "      <td>67</td>\n",
       "      <td>5.7.0.10</td>\n",
       "      <td>2020-12-02 15:52:24</td>\n",
       "      <td>Hi, please note that these issues usually are ...</td>\n",
       "      <td>2020-12-03 20:47:02</td>\n",
       "      <td>most_relevant</td>\n",
       "      <td>com.anydo</td>\n",
       "    </tr>\n",
       "    <tr>\n",
       "      <th>3</th>\n",
       "      <td>gp:AOqpTOFSPaoOVarqwKF86e7-TPUyV6BanSXKRNFGb6G...</td>\n",
       "      <td>Jon Pember</td>\n",
       "      <td>https://play-lh.googleusercontent.com/-97UNn5D...</td>\n",
       "      <td>Liked Any.do at first, enough that I even sign...</td>\n",
       "      <td>1</td>\n",
       "      <td>102</td>\n",
       "      <td>5.7.0.10</td>\n",
       "      <td>2020-11-22 23:42:56</td>\n",
       "      <td>Please note that Any.do integrates directly wi...</td>\n",
       "      <td>2020-11-25 13:30:01</td>\n",
       "      <td>most_relevant</td>\n",
       "      <td>com.anydo</td>\n",
       "    </tr>\n",
       "    <tr>\n",
       "      <th>4</th>\n",
       "      <td>gp:AOqpTOEmghRiCCy0_FYbWBSoRm2ff2hzFTbEjgQ9svu...</td>\n",
       "      <td>Harry Wexler Jr. MBA</td>\n",
       "      <td>https://play-lh.googleusercontent.com/a-/AOh14...</td>\n",
       "      <td>They made me sign up for premium just to have ...</td>\n",
       "      <td>1</td>\n",
       "      <td>2</td>\n",
       "      <td>5.7.0.20</td>\n",
       "      <td>2020-12-31 01:49:52</td>\n",
       "      <td>We never require users to upgrade, as 90% of t...</td>\n",
       "      <td>2020-12-31 20:40:53</td>\n",
       "      <td>most_relevant</td>\n",
       "      <td>com.anydo</td>\n",
       "    </tr>\n",
       "  </tbody>\n",
       "</table>\n",
       "</div>"
      ],
      "text/plain": [
       "                                            reviewId              userName  \\\n",
       "0  gp:AOqpTOEcWS_b8b4P2gClKovxXAPg3il0AD0ZnGw9RxY...                   H G   \n",
       "1  gp:AOqpTOEidRmDaHGYPZW21SVfBkeqTruAzg7LAmCPL2_...    Michelle Armstrong   \n",
       "2  gp:AOqpTOEJfVU5Os7_8CNOu_mpy2AlDz8kFxEFMeBMnxC...     Yiğitcan Sümbelli   \n",
       "3  gp:AOqpTOFSPaoOVarqwKF86e7-TPUyV6BanSXKRNFGb6G...            Jon Pember   \n",
       "4  gp:AOqpTOEmghRiCCy0_FYbWBSoRm2ff2hzFTbEjgQ9svu...  Harry Wexler Jr. MBA   \n",
       "\n",
       "                                           userImage  \\\n",
       "0  https://play-lh.googleusercontent.com/-2Zyc1Oz...   \n",
       "1  https://play-lh.googleusercontent.com/a-/AOh14...   \n",
       "2  https://play-lh.googleusercontent.com/a-/AOh14...   \n",
       "3  https://play-lh.googleusercontent.com/-97UNn5D...   \n",
       "4  https://play-lh.googleusercontent.com/a-/AOh14...   \n",
       "\n",
       "                                             content  score  thumbsUpCount  \\\n",
       "0  Unable to use it as it won't work with my Goog...      1             13   \n",
       "1  I downloaded this because of the cross platfor...      1             81   \n",
       "2  I am starting to hate this app! Every time the...      1             67   \n",
       "3  Liked Any.do at first, enough that I even sign...      1            102   \n",
       "4  They made me sign up for premium just to have ...      1              2   \n",
       "\n",
       "  reviewCreatedVersion                   at  \\\n",
       "0             5.7.0.20  2021-01-11 01:12:58   \n",
       "1             5.7.0.20  2020-12-22 18:31:11   \n",
       "2             5.7.0.10  2020-12-02 15:52:24   \n",
       "3             5.7.0.10  2020-11-22 23:42:56   \n",
       "4             5.7.0.20  2020-12-31 01:49:52   \n",
       "\n",
       "                                        replyContent            repliedAt  \\\n",
       "0  As our team explained profusely, we sync data ...  2021-01-10 12:58:09   \n",
       "1  The Premium ad only shows up when first openin...  2020-12-23 19:58:46   \n",
       "2  Hi, please note that these issues usually are ...  2020-12-03 20:47:02   \n",
       "3  Please note that Any.do integrates directly wi...  2020-11-25 13:30:01   \n",
       "4  We never require users to upgrade, as 90% of t...  2020-12-31 20:40:53   \n",
       "\n",
       "       sortOrder      appId  \n",
       "0  most_relevant  com.anydo  \n",
       "1  most_relevant  com.anydo  \n",
       "2  most_relevant  com.anydo  \n",
       "3  most_relevant  com.anydo  \n",
       "4  most_relevant  com.anydo  "
      ]
     },
     "execution_count": 2,
     "metadata": {},
     "output_type": "execute_result"
    }
   ],
   "source": [
    "df = pd.read_csv('../data/reviews.csv')\n",
    "df.head()"
   ]
  },
  {
   "cell_type": "code",
   "execution_count": 3,
   "metadata": {},
   "outputs": [
    {
     "data": {
      "text/plain": [
       "(16388, 12)"
      ]
     },
     "execution_count": 3,
     "metadata": {},
     "output_type": "execute_result"
    }
   ],
   "source": [
    "df.shape"
   ]
  },
  {
   "cell_type": "code",
   "execution_count": 4,
   "metadata": {},
   "outputs": [
    {
     "name": "stdout",
     "output_type": "stream",
     "text": [
      "<class 'pandas.core.frame.DataFrame'>\n",
      "RangeIndex: 16388 entries, 0 to 16387\n",
      "Data columns (total 12 columns):\n",
      "reviewId                16388 non-null object\n",
      "userName                16388 non-null object\n",
      "userImage               16388 non-null object\n",
      "content                 16388 non-null object\n",
      "score                   16388 non-null int64\n",
      "thumbsUpCount           16388 non-null int64\n",
      "reviewCreatedVersion    14028 non-null object\n",
      "at                      16388 non-null object\n",
      "replyContent            8488 non-null object\n",
      "repliedAt               8488 non-null object\n",
      "sortOrder               16388 non-null object\n",
      "appId                   16388 non-null object\n",
      "dtypes: int64(2), object(10)\n",
      "memory usage: 1.5+ MB\n"
     ]
    }
   ],
   "source": [
    "df.info()"
   ]
  },
  {
   "cell_type": "markdown",
   "metadata": {},
   "source": [
    "We have 16k examples, and we will focus on the content and score items. Luckily there isn't any missing value in these columns. Then let's check if these data is balance."
   ]
  },
  {
   "cell_type": "code",
   "execution_count": 5,
   "metadata": {},
   "outputs": [
    {
     "data": {
      "image/png": "[encoded data removed]",
      "text/plain": [
       "<Figure size 432x288 with 1 Axes>"
      ]
     },
     "metadata": {
      "needs_background": "light"
     },
     "output_type": "display_data"
    }
   ],
   "source": [
    "sns.countplot(df.score)\n",
    "plt.xlabel('review score')\n",
    "plt.show()"
   ]
  },
  {
   "cell_type": "markdown",
   "metadata": {},
   "source": [
    "It looks like these data are very imbalance. So, i'll convert these scores into negative, netural and positive classes."
   ]
  },
  {
   "cell_type": "code",
   "execution_count": 6,
   "metadata": {},
   "outputs": [],
   "source": [
    "def convert(item):\n",
    "    if item < 3:\n",
    "        return 'negative'\n",
    "    elif item == 3:\n",
    "        return 'netural'\n",
    "    else:\n",
    "        return 'positive'"
   ]
  },
  {
   "cell_type": "code",
   "execution_count": 7,
   "metadata": {},
   "outputs": [
    {
     "data": {
      "image/png": "[encoded data removed]",
      "text/plain": [
       "<Figure size 432x288 with 1 Axes>"
      ]
     },
     "metadata": {
      "needs_background": "light"
     },
     "output_type": "display_data"
    }
   ],
   "source": [
    "df['sentiment'] = df.score.apply(convert)\n",
    "sns.countplot(df.sentiment)\n",
    "plt.show()"
   ]
  },
  {
   "cell_type": "markdown",
   "metadata": {},
   "source": [
    "After the convertion, the data imbalance issue has been solved. Let's check the length distribution of the contents."
   ]
  },
  {
   "cell_type": "code",
   "execution_count": 8,
   "metadata": {},
   "outputs": [],
   "source": [
    "content_len = list()\n",
    "for i in df.content:\n",
    "    content_len.append(len(i))"
   ]
  },
  {
   "cell_type": "code",
   "execution_count": 9,
   "metadata": {},
   "outputs": [
    {
     "data": {
      "image/png": "[encoded data removed]",
      "text/plain": [
       "<Figure size 432x288 with 1 Axes>"
      ]
     },
     "metadata": {
      "needs_background": "light"
     },
     "output_type": "display_data"
    },
    {
     "name": "stdout",
     "output_type": "stream",
     "text": [
      "The average length of these tokens is 192.806321698804, the max length of these tokens is 2264\n"
     ]
    }
   ],
   "source": [
    "sns.distplot(content_len)\n",
    "plt.xlim([0,600])\n",
    "plt.xlabel('Token count')\n",
    "plt.show()\n",
    "print(f\"The average length of these tokens is {np.mean(np.array(content_len))}, the max length of these tokens is {max(content_len)}\")"
   ]
  },
  {
   "cell_type": "code",
   "execution_count": 10,
   "metadata": {},
   "outputs": [],
   "source": [
    "def find_outliers(length,content_list):\n",
    "    cnt = 0\n",
    "    for content in content_list:\n",
    "        if content > length:\n",
    "            cnt += 1\n",
    "    return cnt"
   ]
  },
  {
   "cell_type": "code",
   "execution_count": 11,
   "metadata": {},
   "outputs": [
    {
     "name": "stdout",
     "output_type": "stream",
     "text": [
      "if i set the max sequence length to 200, 38.64412985111057% data will be truncated\n"
     ]
    }
   ],
   "source": [
    "length = 200\n",
    "print(f\"if i set the max sequence length to {length}, {find_outliers(length,content_len)/len(content_len)*100}% data will be truncated\")"
   ]
  },
  {
   "cell_type": "markdown",
   "metadata": {},
   "source": [
    "I'll set the max seqence length of the bert model to 200. This number will be modify if the performance of the model can't meet my requirements."
   ]
  },
  {
   "cell_type": "markdown",
   "metadata": {
    "pycharm": {
     "name": "#%%\n"
    }
   },
   "source": [
    "## Train Test Split"
   ]
  },
  {
   "cell_type": "code",
   "execution_count": 12,
   "metadata": {
    "pycharm": {
     "name": "#%%\n"
    }
   },
   "outputs": [],
   "source": [
    "train = list()\n",
    "test = list()\n",
    "val = list()"
   ]
  },
  {
   "cell_type": "code",
   "execution_count": 13,
   "metadata": {
    "pycharm": {
     "name": "#%%\n"
    }
   },
   "outputs": [],
   "source": [
    "idx = df.groupby('sentiment').apply(lambda x: x.sample(frac=0.8,random_state=0)).index.get_level_values(1)\n",
    "train = df.iloc[idx,:].reset_index(drop=True)\n",
    "test = df.drop(idx).reset_index(drop=True)\n",
    "idx2 = test.groupby('sentiment').apply(lambda x: x.sample(frac=0.5, random_state=0)).index.get_level_values(1)\n",
    "val = test.iloc[idx2,:].reset_index(drop=True)\n",
    "test = test.drop(idx2).reset_index(drop=True)"
   ]
  },
  {
   "cell_type": "code",
   "execution_count": 14,
   "metadata": {
    "pycharm": {
     "name": "#%%\n"
    }
   },
   "outputs": [],
   "source": [
    "train = [{'text':k,'label':[v]} for k,v in zip(train['content'], train['sentiment'])]\n",
    "test = [{'text':k,'label':[v]} for k,v in zip(test['content'], test['sentiment'])]\n",
    "val = [{'text':k,'label':[v]} for k,v in zip(val['content'], val['sentiment'])]"
   ]
  },
  {
   "cell_type": "code",
   "execution_count": 18,
   "metadata": {
    "pycharm": {
     "name": "#%%\n"
    }
   },
   "outputs": [],
   "source": [
    "def generate_file(data,name):\n",
    "    data_dir = '../data'\n",
    "    name = name+'.json'\n",
    "    f = open(os.path.join(data_dir,name),'w')\n",
    "    for i in data:\n",
    "        print(json.dumps(i,ensure_ascii=False),file = f)\n",
    "    f.close()"
   ]
  },
  {
   "cell_type": "code",
   "execution_count": 19,
   "metadata": {
    "pycharm": {
     "name": "#%%\n"
    }
   },
   "outputs": [],
   "source": [
    "file = [(train,'train'),(test,'test'),(val,'val')]\n",
    "for i in file:\n",
    "    generate_file(i[0],i[1])"
   ]
  },
  {
   "cell_type": "code",
   "execution_count": 16,
   "metadata": {
    "pycharm": {
     "name": "#%%\n"
    }
   },
   "outputs": [
    {
     "name": "stdout",
     "output_type": "stream",
     "text": [
      "0 positive\n",
      "1 negative\n",
      "2 netural\n"
     ]
    }
   ],
   "source": [
    "label = ['positive','negative','netural']\n",
    "f = open('../data/label_map.json','w')\n",
    "for i,j in enumerate(label):\n",
    "    print(i,j)"
   ]
  },
  {
   "cell_type": "code",
   "execution_count": null,
   "metadata": {},
   "outputs": [],
   "source": []
  }
 ],
 "metadata": {
  "kernelspec": {
   "display_name": "Python 3",
   "language": "python",
   "name": "python3"
  },
  "language_info": {
   "codemirror_mode": {
    "name": "ipython",
    "version": 3
   },
   "file_extension": ".py",
   "mimetype": "text/x-python",
   "name": "python",
   "nbconvert_exporter": "python",
   "pygments_lexer": "ipython3",
   "version": "3.7.3"
  }
 },
 "nbformat": 4,
 "nbformat_minor": 2
}
